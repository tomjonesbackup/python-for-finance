{
 "cells": [
  {
   "cell_type": "markdown",
   "metadata": {},
   "source": [
    "Lets create a monte carlo pricing of an option on 2 underlying correlated stocks"
   ]
  },
  {
   "cell_type": "code",
   "execution_count": 1,
   "metadata": {
    "collapsed": true
   },
   "outputs": [],
   "source": [
    "import numpy as np\n",
    "import matplotlib.pyplot as plt\n",
    "import math\n",
    "from scipy import stats\n",
    "from time import time\n",
    "%matplotlib inline"
   ]
  },
  {
   "cell_type": "code",
   "execution_count": 2,
   "metadata": {
    "collapsed": true
   },
   "outputs": [],
   "source": [
    "# Parameters\n",
    "S0 = 100.;\n",
    "B0 = 100.0\n",
    "K = 105.; # call option strike\n",
    "T = 1.0; # expiry\n",
    "r = 0.05; # risk-free rate\n",
    "M = 50; # number of steps\n",
    "dt = T/M; #period of each step\n",
    "I = 250000 # number of trials"
   ]
  },
  {
   "cell_type": "code",
   "execution_count": 12,
   "metadata": {
    "collapsed": false
   },
   "outputs": [
    {
     "data": {
      "text/plain": [
       "array([[ 1.        ,  0.        ],\n",
       "       [ 0.99      ,  0.14106736]])"
      ]
     },
     "execution_count": 12,
     "metadata": {},
     "output_type": "execute_result"
    }
   ],
   "source": [
    "# two stock S and B which are correlated with rho\n",
    "B_sigma = 0.2\n",
    "S_sigma = 0.3\n",
    "rho =0.99\n",
    "\n",
    "# calculate their cholesky matrix from their correlation matrix\n",
    "corr_mat = np.zeros((2, 2))\n",
    "corr_mat[0,:] = [1.0, rho]\n",
    "corr_mat[1,:] = [rho, 1.0]\n",
    "cho_mat = np.linalg.cholesky(corr_mat)\n",
    "\n",
    "cho_mat"
   ]
  },
  {
   "cell_type": "code",
   "execution_count": 13,
   "metadata": {
    "collapsed": false
   },
   "outputs": [],
   "source": [
    "np.random.seed(20000)\n",
    "ran_num = np.random.standard_normal((2, M+1, I))\n",
    "\n",
    "# simulate correlated path of underlyers\n",
    "B = np.zeros_like(ran_num[0])\n",
    "S = np.zeros_like(B)\n",
    "B[0] = B0\n",
    "S[0] = S0\n",
    "for t in range(1, M + 1):\n",
    "    # generate correlated random variables for each step\n",
    "    ran = np.dot(cho_mat, ran_num[:,t,:])\n",
    "    B[t] = B[t-1] * np.exp((r-0.5*B_sigma**2)*dt + B_sigma * np.sqrt(dt) * ran[0])    \n",
    "    S[t] = S[t-1] * np.exp((r-0.5*S_sigma**2)*dt + S_sigma * np.sqrt(dt) * ran[1])"
   ]
  },
  {
   "cell_type": "code",
   "execution_count": 14,
   "metadata": {
    "collapsed": false
   },
   "outputs": [],
   "source": [
    "# create payoff which takes the best of the two stock\n",
    "hT = np.maximum(S[-1]-K, np.maximum(B[-1]-K, 0))"
   ]
  },
  {
   "cell_type": "code",
   "execution_count": 15,
   "metadata": {
    "collapsed": false
   },
   "outputs": [],
   "source": [
    "C0 = np.exp(-r*T)*np.sum(hT)/I"
   ]
  },
  {
   "cell_type": "code",
   "execution_count": 16,
   "metadata": {
    "collapsed": false
   },
   "outputs": [
    {
     "data": {
      "text/plain": [
       "12.215273985119852"
      ]
     },
     "execution_count": 16,
     "metadata": {},
     "output_type": "execute_result"
    }
   ],
   "source": [
    "C0"
   ]
  },
  {
   "cell_type": "code",
   "execution_count": 26,
   "metadata": {
    "collapsed": false
   },
   "outputs": [],
   "source": [
    "# lets plot the option price as a function of the correlation between the 2 underlyers\n",
    "rhos = np.linspace(-0.99, 0.99, 20)\n",
    "C = []\n",
    "#C = np.zeros_like(rhos)\n",
    "for rho in rhos:\n",
    "    corr_mat = np.zeros((2, 2))\n",
    "    corr_mat[0,:] = [1.0, rho]\n",
    "    corr_mat[1,:] = [rho, 1.0]\n",
    "    cho_mat = np.linalg.cholesky(corr_mat)\n",
    "    \n",
    "    ran_num = np.random.standard_normal((2, M+1, I))\n",
    "    \n",
    "    B = np.zeros_like(ran_num[0])\n",
    "    S = np.zeros_like(B)\n",
    "    B[0] = B0\n",
    "    S[0] = S0\n",
    "    for t in range(1, M + 1):\n",
    "        # generate correlated random variables for each step\n",
    "        ran = np.dot(cho_mat, ran_num[:,t,:])\n",
    "        B[t] = B[t-1] * np.exp((r-0.5*B_sigma**2)*dt + B_sigma * np.sqrt(dt) * ran[0])    \n",
    "        S[t] = S[t-1] * np.exp((r-0.5*S_sigma**2)*dt + S_sigma * np.sqrt(dt) * ran[1])\n",
    "        \n",
    "    hT = np.maximum(S[-1]-K, np.maximum(B[-1]-K, 0))\n",
    "    \n",
    "    C.append(np.exp(-r*T)*np.sum(hT)/I)\n",
    "        "
   ]
  },
  {
   "cell_type": "code",
   "execution_count": 29,
   "metadata": {
    "collapsed": false
   },
   "outputs": [
    {
     "data": {
      "text/plain": [
       "<matplotlib.text.Text at 0x7fe0b4ca2e90>"
      ]
     },
     "execution_count": 29,
     "metadata": {},
     "output_type": "execute_result"
    },
    {
     "data": {
      "image/png": "[encoded data removed]",
      "text/plain": [
       "<matplotlib.figure.Figure at 0x7fe0b4be9f90>"
      ]
     },
     "metadata": {},
     "output_type": "display_data"
    }
   ],
   "source": [
    "plt.plot(rhos, C)\n",
    "plt.xlabel('correlation between underlyer B and S')\n",
    "plt.ylabel('price')"
   ]
  },
  {
   "cell_type": "code",
   "execution_count": null,
   "metadata": {
    "collapsed": true
   },
   "outputs": [],
   "source": []
  }
 ],
 "metadata": {
  "kernelspec": {
   "display_name": "Python 2",
   "language": "python",
   "name": "python2"
  },
  "language_info": {
   "codemirror_mode": {
    "name": "ipython",
    "version": 2
   },
   "file_extension": ".py",
   "mimetype": "text/x-python",
   "name": "python",
   "nbconvert_exporter": "python",
   "pygments_lexer": "ipython2",
   "version": "2.7.13"
  }
 },
 "nbformat": 4,
 "nbformat_minor": 2
}
