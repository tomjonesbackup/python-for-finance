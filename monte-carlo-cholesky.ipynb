{
 "cells": [
  {
   "cell_type": "markdown",
   "metadata": {},
   "source": [
    "Lets create a monte carlo pricing of an option on 2 underlying correlated stocks"
   ]
  },
  {
   "cell_type": "code",
   "execution_count": 1,
   "metadata": {
    "collapsed": true
   },
   "outputs": [],
   "source": [
    "import numpy as np\n",
    "import matplotlib.pyplot as plt\n",
    "%matplotlib inline"
   ]
  },
  {
   "cell_type": "code",
   "execution_count": 2,
   "metadata": {
    "collapsed": false
   },
   "outputs": [],
   "source": [
    "# Parameters\n",
    "S0 = 100.0  # underlyer of stock S at T_0\n",
    "B0 = 100.0  # underlyer of stock B at T_0\n",
    "B_vol = 0.2 # B's vol\n",
    "S_vol = 0.3 # S's vol\n",
    "K = 105.    # call option strike\n",
    "T = 1.0     # expiry\n",
    "r = 0.05    # risk-free rate\n",
    "M = 50      # number of steps\n",
    "dt = T/M    # period of each step\n",
    "I = 250000  # number of trials"
   ]
  },
  {
   "cell_type": "code",
   "execution_count": 6,
   "metadata": {
    "collapsed": false
   },
   "outputs": [],
   "source": [
    "np.random.seed(20000)\n",
    "\n",
    "# 25 rhos between -1 and +1\n",
    "rhos = np.linspace(-0.99, 0.99, 25)\n",
    "prices = []\n",
    "\n",
    "for rho in rhos:\n",
    "    \n",
    "    # calculate cholesky matrix from correlation matrix (better be positive semi-definite or this won't work)\n",
    "    # this is used to transform independent random variables to correlated random variables\n",
    "    corr_mat = np.zeros((2, 2))\n",
    "    corr_mat[0,:] = [1.0, rho]\n",
    "    corr_mat[1,:] = [rho, 1.0]\n",
    "    cho_mat = np.linalg.cholesky(corr_mat)\n",
    "\n",
    "    # draw random variables from a standard normal distribution\n",
    "    # 2 stocks x M+1 time-steps x I paths\n",
    "    ran_num = np.random.standard_normal((2, M+1, I))\n",
    "\n",
    "    # simulate underlyer paths\n",
    "    B = np.zeros_like(ran_num[0]) # M+1 steps x I paths\n",
    "    S = np.zeros_like(B)          # M+1 steps x I paths\n",
    "    B[0] = B0\n",
    "    S[0] = S0\n",
    "    for t in range(1, M + 1):\n",
    "        # generate correlated random variables for current step t (across both stock and each path)\n",
    "        ran = np.dot(cho_mat, ran_num[:,t,:])\n",
    "        # evolve path using geometric brownian motion\n",
    "        B[t] = B[t-1] * np.exp((r-0.5*B_vol**2)*dt + B_vol * np.sqrt(dt) * ran[0])    \n",
    "        S[t] = S[t-1] * np.exp((r-0.5*S_vol**2)*dt + S_vol * np.sqrt(dt) * ran[1])\n",
    "    \n",
    "    # payoff at expiry is a european call option but using max between B and S\n",
    "    payoff = np.maximum(np.maximum(B[-1],S[-1])-K, 0)\n",
    "    prices.append(np.exp(-r*T)*np.sum(payoff)/I)"
   ]
  },
  {
   "cell_type": "code",
   "execution_count": 8,
   "metadata": {
    "collapsed": false
   },
   "outputs": [
    {
     "data": {
      "text/plain": [
       "<matplotlib.text.Text at 0x7f784a8b0cd0>"
      ]
     },
     "execution_count": 8,
     "metadata": {},
     "output_type": "execute_result"
    },
    {
     "data": {
      "image/png": "[encoded data removed]",
      "text/plain": [
       "<matplotlib.figure.Figure at 0x7f7888650510>"
      ]
     },
     "metadata": {},
     "output_type": "display_data"
    }
   ],
   "source": [
    "plt.plot(rhos, prices)\n",
    "plt.xlabel('correlation between underlyer B and S')\n",
    "plt.ylabel('price')"
   ]
  },
  {
   "cell_type": "code",
   "execution_count": null,
   "metadata": {
    "collapsed": true
   },
   "outputs": [],
   "source": []
  }
 ],
 "metadata": {
  "kernelspec": {
   "display_name": "Python 2",
   "language": "python",
   "name": "python2"
  },
  "language_info": {
   "codemirror_mode": {
    "name": "ipython",
    "version": 2
   },
   "file_extension": ".py",
   "mimetype": "text/x-python",
   "name": "python",
   "nbconvert_exporter": "python",
   "pygments_lexer": "ipython2",
   "version": "2.7.13"
  }
 },
 "nbformat": 4,
 "nbformat_minor": 2
}
