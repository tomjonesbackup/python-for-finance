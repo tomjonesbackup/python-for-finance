{
 "cells": [
  {
   "cell_type": "code",
   "execution_count": 8,
   "metadata": {
    "collapsed": false
   },
   "outputs": [],
   "source": [
    "import scipy.stats as scs\n",
    "import numpy as np\n",
    "import pandas as pd\n",
    "import matplotlib.pyplot as plt\n",
    "%matplotlib inline"
   ]
  },
  {
   "cell_type": "code",
   "execution_count": 9,
   "metadata": {
    "collapsed": false
   },
   "outputs": [],
   "source": [
    "S0 = 100\n",
    "r = 0.05\n",
    "sigma = 0.25\n",
    "T = 30/365.\n",
    "I = 10000\n",
    "ST = S0 * np.exp((r - 0.5 * sigma ** 2) * T + sigma * np.sqrt(T) * np.random.standard_normal(I))\n"
   ]
  },
  {
   "cell_type": "code",
   "execution_count": 10,
   "metadata": {
    "collapsed": true
   },
   "outputs": [],
   "source": [
    "R_gbm = np.sort(ST-S0)"
   ]
  },
  {
   "cell_type": "code",
   "execution_count": 11,
   "metadata": {
    "collapsed": false
   },
   "outputs": [
    {
     "data": {
      "image/png": "[encoded data removed]",
      "text/plain": [
       "<matplotlib.figure.Figure at 0x7f78b8c12cd0>"
      ]
     },
     "metadata": {},
     "output_type": "display_data"
    }
   ],
   "source": [
    "plt.hist(R_gbm, bins=50)\n",
    "plt.xlabel('absolute return')\n",
    "plt.ylabel('frequency')\n",
    "plt.grid(True)"
   ]
  },
  {
   "cell_type": "code",
   "execution_count": 13,
   "metadata": {
    "collapsed": false
   },
   "outputs": [
    {
     "name": "stdout",
     "output_type": "stream",
     "text": [
      "Confidence Level    Value-at-Risk\n",
      "---------------------------------\n",
      "           99.99           23.898\n",
      "           99.90           19.488\n",
      "           99.00           15.010\n",
      "           97.50           12.728\n",
      "           95.00           10.971\n",
      "           90.00            8.799\n"
     ]
    }
   ],
   "source": [
    "percs = [0.01, 0.1, 1., 2.5, 5.0, 10.0]\n",
    "var = scs.scoreatpercentile(R_gbm, percs)\n",
    "print \"%16s %16s\" % ('Confidence Level', 'Value-at-Risk')\n",
    "print 33 * \"-\"\n",
    "for pair in zip(percs, var):\n",
    "    print \"%16.2f %16.3f\" % (100 - pair[0],-pair[1])"
   ]
  },
  {
   "cell_type": "code",
   "execution_count": 24,
   "metadata": {
    "collapsed": false
   },
   "outputs": [],
   "source": [
    "S0 = 100.\n",
    "r = 0.05\n",
    "sigma = 0.2\n",
    "lamb = 0.75\n",
    "mu = -0.6\n",
    "delta = 0.25\n",
    "T = 1.0\n",
    "M = 50\n",
    "dt = 30./365/M\n",
    "\n",
    "rj = lamb * (np.exp(mu + 0.5 * delta ** 2) - 1)\n",
    "S = np.zeros((M + 1, I))\n",
    "S[0] = S0\n",
    "sn1 = np.random.standard_normal((M + 1, I))\n",
    "sn2 = np.random.standard_normal((M + 1, I))\n",
    "poi = np.random.poisson(lamb * dt, (M + 1, I))\n",
    "for t in range(1, M + 1, 1):\n",
    "    S[t] = S[t - 1] * (np.exp((r - rj - 0.5 * sigma ** 2) * dt + sigma * np.sqrt(dt) * sn1[t]) + (np.exp(mu + delta * sn2[t]) - 1) * poi[t])\n",
    "    S[t] = np.maximum(S[t], 0)\n",
    "R_jd = np.sort(S[-1] - S0)\n"
   ]
  },
  {
   "cell_type": "code",
   "execution_count": 25,
   "metadata": {
    "collapsed": false
   },
   "outputs": [
    {
     "data": {
      "image/png": "[encoded data removed]",
      "text/plain": [
       "<matplotlib.figure.Figure at 0x7f78b3e50410>"
      ]
     },
     "metadata": {},
     "output_type": "display_data"
    }
   ],
   "source": [
    "plt.hist(R_gbm, bins=50)\n",
    "plt.xlabel('absolute return')\n",
    "plt.ylabel('frequency')\n",
    "plt.grid(True)"
   ]
  },
  {
   "cell_type": "code",
   "execution_count": 26,
   "metadata": {
    "collapsed": false
   },
   "outputs": [
    {
     "name": "stdout",
     "output_type": "stream",
     "text": [
      "Confidence Level    Value-at-Risk\n",
      "---------------------------------\n",
      "           99.99           82.726\n",
      "           99.90           76.482\n",
      "           99.00           57.296\n",
      "           97.50           46.994\n",
      "           95.00           26.707\n",
      "           90.00            6.516\n"
     ]
    }
   ],
   "source": [
    "percs = [0.01, 0.1, 1., 2.5, 5.0, 10.0]\n",
    "var = scs.scoreatpercentile(R_jd, percs)\n",
    "print \"%16s %16s\" % ('Confidence Level', 'Value-at-Risk')\n",
    "print 33 * \"-\"\n",
    "for pair in zip(percs, var):\n",
    "    print \"%16.2f %16.3f\" % (100 - pair[0],-pair[1])"
   ]
  },
  {
   "cell_type": "code",
   "execution_count": 27,
   "metadata": {
    "collapsed": false
   },
   "outputs": [
    {
     "data": {
      "text/plain": [
       "(-89.431860268136504, 0.0)"
      ]
     },
     "execution_count": 27,
     "metadata": {},
     "output_type": "execute_result"
    },
    {
     "data": {
      "image/png": "[encoded data removed]",
      "text/plain": [
       "<matplotlib.figure.Figure at 0x7f78b3cbce90>"
      ]
     },
     "metadata": {},
     "output_type": "display_data"
    }
   ],
   "source": [
    "percs = list(np.arange(0.0,10.1, 0.1))\n",
    "gbm_var = scs.scoreatpercentile(R_gbm, percs)\n",
    "jd_var = scs.scoreatpercentile(R_jd, percs)\n",
    "plt.plot(percs, gbm_var, 'b', lw=1.5, label='GBM')\n",
    "plt.plot(percs, jd_var, 'r', lw=1.5, label='JD')\n",
    "plt.legend(loc=4)\n",
    "plt.xlabel('100 - confidence level [%]')\n",
    "plt.ylabel('value-at-risk')\n",
    "plt.grid(True)\n",
    "plt.ylim(ymax=0.0)\n"
   ]
  },
  {
   "cell_type": "code",
   "execution_count": null,
   "metadata": {
    "collapsed": true
   },
   "outputs": [],
   "source": []
  }
 ],
 "metadata": {
  "kernelspec": {
   "display_name": "Python 2",
   "language": "python",
   "name": "python2"
  },
  "language_info": {
   "codemirror_mode": {
    "name": "ipython",
    "version": 2
   },
   "file_extension": ".py",
   "mimetype": "text/x-python",
   "name": "python",
   "nbconvert_exporter": "python",
   "pygments_lexer": "ipython2",
   "version": "2.7.13"
  }
 },
 "nbformat": 4,
 "nbformat_minor": 2
}
